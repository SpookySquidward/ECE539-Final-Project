{
 "cells": [
  {
   "cell_type": "code",
   "execution_count": 18,
   "outputs": [],
   "source": [
    "from pathlib import Path  # https://realpython.com/python-pathlib/\n",
    "from sklearn.linear_model import LogisticRegression\n",
    "import pandas as pd\n",
    "from sklearn.feature_extraction.text import CountVectorizer"
   ],
   "metadata": {
    "collapsed": false
   }
  },
  {
   "cell_type": "code",
   "execution_count": 19,
   "outputs": [],
   "source": [
    "parent_path = Path.cwd().parent\n",
    "train_path = parent_path.joinpath(\"dataset\", \"formatted_train.csv\")\n",
    "test_path = parent_path.joinpath(\"dataset\", \"formatted_test.csv\")\n",
    "\n",
    "train_df_total = pd.read_csv(train_path)\n",
    "test_df_total = pd.read_csv(test_path)"
   ],
   "metadata": {
    "collapsed": false
   }
  },
  {
   "cell_type": "code",
   "execution_count": 25,
   "outputs": [],
   "source": [
    "# Create smaller df\n",
    "train_df = train_df_total.head(10000)\n",
    "test_df = test_df_total.head(10000)"
   ],
   "metadata": {
    "collapsed": false
   }
  },
  {
   "cell_type": "code",
   "execution_count": 26,
   "outputs": [],
   "source": [
    "def create_count_vector(df: pd.DataFrame) -> CountVectorizer:\n",
    "    text = df[\"body\"]  # Figure out later how we handle titles\n",
    "    cv = CountVectorizer()\n",
    "    cv.fit(text)\n",
    "    return cv"
   ],
   "metadata": {
    "collapsed": false
   }
  },
  {
   "cell_type": "code",
   "execution_count": 27,
   "outputs": [],
   "source": [
    "def format_df_to_bow(cv: CountVectorizer, df: pd.DataFrame) -> (pd.Series, pd.Series):\n",
    "    \"\"\"\n",
    "    Function to format text to a bag of words (BoW).\n",
    "    The following code is primarily from https://www.kaggle.com/code/kashnitsky/topic-4-linear-models-part-4-pros-cons\n",
    "    :param df: dataframe with data\n",
    "    :return: tuple of x (words/feature) and y (label)\n",
    "    \"\"\"\n",
    "    text = df[\"body\"]  # Figure out later how we handle titles\n",
    "    x = cv.transform(text)\n",
    "    y = df[\"sentiment\"]\n",
    "\n",
    "    return x, y"
   ],
   "metadata": {
    "collapsed": false
   }
  },
  {
   "cell_type": "code",
   "execution_count": 28,
   "outputs": [],
   "source": [
    "cv = create_count_vector(train_df)"
   ],
   "metadata": {
    "collapsed": false
   }
  },
  {
   "cell_type": "code",
   "execution_count": 29,
   "outputs": [],
   "source": [
    "x_train, y_train = format_df_to_bow(cv, train_df)\n",
    "x_test, y_test = format_df_to_bow(cv, test_df)"
   ],
   "metadata": {
    "collapsed": false
   }
  },
  {
   "cell_type": "code",
   "execution_count": 30,
   "outputs": [],
   "source": [
    "bow_log_reg = LogisticRegression(solver=\"lbfgs\", n_jobs=-1, random_state=7).fit(x_train, y_train)"
   ],
   "metadata": {
    "collapsed": false
   }
  },
  {
   "cell_type": "code",
   "execution_count": 31,
   "outputs": [
    {
     "name": "stdout",
     "output_type": "stream",
     "text": [
      "Train accuracy:  0.99\n",
      "Test Accuracy:  0.816\n"
     ]
    }
   ],
   "source": [
    "print(\"Train accuracy: \", round(bow_log_reg.score(x_train, y_train), 3))\n",
    "print(\"Test Accuracy: \", round(bow_log_reg.score(x_test, y_test), 3))"
   ],
   "metadata": {
    "collapsed": false
   }
  }
 ],
 "metadata": {
  "kernelspec": {
   "display_name": "Python 3",
   "language": "python",
   "name": "python3"
  },
  "language_info": {
   "codemirror_mode": {
    "name": "ipython",
    "version": 2
   },
   "file_extension": ".py",
   "mimetype": "text/x-python",
   "name": "python",
   "nbconvert_exporter": "python",
   "pygments_lexer": "ipython2",
   "version": "2.7.6"
  }
 },
 "nbformat": 4,
 "nbformat_minor": 0
}
