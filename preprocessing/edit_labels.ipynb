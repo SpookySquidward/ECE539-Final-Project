{
 "cells": [
  {
   "cell_type": "code",
   "execution_count": 27,
   "metadata": {
    "collapsed": true
   },
   "outputs": [
    {
     "name": "stdout",
     "output_type": "stream",
     "text": [
      "Dataframe shape\n",
      "Rows:  650000 \n",
      "Columns:  3\n"
     ]
    }
   ],
   "source": [
    "import pandas as pd\n",
    "import os\n",
    "from pathlib import Path\n",
    "\n",
    "# parent directory\n",
    "parent = os.path.join(os.getcwd(), os.pardir)\n",
    "parent_dir = os.path.abspath(parent)\n",
    "\n",
    "csv_path = os.path.join(parent_dir, \"dataset\", \"test.csv\")\n",
    "test_df = pd.read_csv (filepath_or_buffer = csv_path, names = [\"star_rating\", \"headline\", \"body\"])\n",
    "test_df.head(5)\n",
    "rows, columns = test_df.shape\n",
    "print(\"Dataframe shape\\nRows: \", rows, \"\\nColumns: \", columns)"
   ]
  },
  {
   "cell_type": "code",
   "execution_count": 28,
   "outputs": [
    {
     "data": {
      "text/plain": "  star_rating                           headline  \\\n0    negative                    mens ultrasheer   \n1    positive            Surprisingly delightful   \n2    negative       Works, but not as advertised   \n3    negative                            Oh dear   \n4    negative                    Incorrect disc!   \n5    negative                     Incorrect Disc   \n6    negative           DVD menu select problems   \n7     neutral       My 2 y/o grandson loves it!!   \n8    positive  A Cookbook Every Baker Should Own   \n9     neutral                         good basic   \n\n                                                body  \n0  This model may be ok for sedentary types, but ...  \n1  This is a fast read filled with unexpected hum...  \n2  I bought one of these chargers..the instructio...  \n3  I was excited to find a book ostensibly about ...  \n4  I am a big JVC fan, but I do not like this mod...  \n5  I love the style of this, but after a couple y...  \n6  I cannot scroll through a DVD menu that is set...  \n7  This movie with all of its animals really keep...  \n8  I found a copy of this cookbook at a local use...  \n9  The book is a basic \"how to\" book for using so...  ",
      "text/html": "<div>\n<style scoped>\n    .dataframe tbody tr th:only-of-type {\n        vertical-align: middle;\n    }\n\n    .dataframe tbody tr th {\n        vertical-align: top;\n    }\n\n    .dataframe thead th {\n        text-align: right;\n    }\n</style>\n<table border=\"1\" class=\"dataframe\">\n  <thead>\n    <tr style=\"text-align: right;\">\n      <th></th>\n      <th>star_rating</th>\n      <th>headline</th>\n      <th>body</th>\n    </tr>\n  </thead>\n  <tbody>\n    <tr>\n      <th>0</th>\n      <td>negative</td>\n      <td>mens ultrasheer</td>\n      <td>This model may be ok for sedentary types, but ...</td>\n    </tr>\n    <tr>\n      <th>1</th>\n      <td>positive</td>\n      <td>Surprisingly delightful</td>\n      <td>This is a fast read filled with unexpected hum...</td>\n    </tr>\n    <tr>\n      <th>2</th>\n      <td>negative</td>\n      <td>Works, but not as advertised</td>\n      <td>I bought one of these chargers..the instructio...</td>\n    </tr>\n    <tr>\n      <th>3</th>\n      <td>negative</td>\n      <td>Oh dear</td>\n      <td>I was excited to find a book ostensibly about ...</td>\n    </tr>\n    <tr>\n      <th>4</th>\n      <td>negative</td>\n      <td>Incorrect disc!</td>\n      <td>I am a big JVC fan, but I do not like this mod...</td>\n    </tr>\n    <tr>\n      <th>5</th>\n      <td>negative</td>\n      <td>Incorrect Disc</td>\n      <td>I love the style of this, but after a couple y...</td>\n    </tr>\n    <tr>\n      <th>6</th>\n      <td>negative</td>\n      <td>DVD menu select problems</td>\n      <td>I cannot scroll through a DVD menu that is set...</td>\n    </tr>\n    <tr>\n      <th>7</th>\n      <td>neutral</td>\n      <td>My 2 y/o grandson loves it!!</td>\n      <td>This movie with all of its animals really keep...</td>\n    </tr>\n    <tr>\n      <th>8</th>\n      <td>positive</td>\n      <td>A Cookbook Every Baker Should Own</td>\n      <td>I found a copy of this cookbook at a local use...</td>\n    </tr>\n    <tr>\n      <th>9</th>\n      <td>neutral</td>\n      <td>good basic</td>\n      <td>The book is a basic \"how to\" book for using so...</td>\n    </tr>\n  </tbody>\n</table>\n</div>"
     },
     "execution_count": 28,
     "metadata": {},
     "output_type": "execute_result"
    }
   ],
   "source": [
    "def snap_reviews(rating):\n",
    "    if rating < 3: return \"negative\"\n",
    "    elif rating > 3: return \"positive\"\n",
    "    return \"neutral\"\n",
    "\n",
    "test_df['star_rating'] = test_df['star_rating'].apply(snap_reviews)\n",
    "test_df.head(10)"
   ],
   "metadata": {
    "collapsed": false
   }
  },
  {
   "cell_type": "code",
   "execution_count": 29,
   "outputs": [
    {
     "data": {
      "text/plain": "   star_rating                            headline  \\\n0     negative                     mens ultrasheer   \n1     positive             Surprisingly delightful   \n2     negative        Works, but not as advertised   \n3     negative                             Oh dear   \n4     negative                     Incorrect disc!   \n5     negative                      Incorrect Disc   \n6     negative            DVD menu select problems   \n8     positive   A Cookbook Every Baker Should Own   \n12    negative  Profound then. Truly horrible now.   \n13    negative                     A complete Bust   \n\n                                                 body  \n0   This model may be ok for sedentary types, but ...  \n1   This is a fast read filled with unexpected hum...  \n2   I bought one of these chargers..the instructio...  \n3   I was excited to find a book ostensibly about ...  \n4   I am a big JVC fan, but I do not like this mod...  \n5   I love the style of this, but after a couple y...  \n6   I cannot scroll through a DVD menu that is set...  \n8   I found a copy of this cookbook at a local use...  \n12  The narrative style of this work by famous fou...  \n13  This game requires quicktime 5.0 to work...if ...  ",
      "text/html": "<div>\n<style scoped>\n    .dataframe tbody tr th:only-of-type {\n        vertical-align: middle;\n    }\n\n    .dataframe tbody tr th {\n        vertical-align: top;\n    }\n\n    .dataframe thead th {\n        text-align: right;\n    }\n</style>\n<table border=\"1\" class=\"dataframe\">\n  <thead>\n    <tr style=\"text-align: right;\">\n      <th></th>\n      <th>star_rating</th>\n      <th>headline</th>\n      <th>body</th>\n    </tr>\n  </thead>\n  <tbody>\n    <tr>\n      <th>0</th>\n      <td>negative</td>\n      <td>mens ultrasheer</td>\n      <td>This model may be ok for sedentary types, but ...</td>\n    </tr>\n    <tr>\n      <th>1</th>\n      <td>positive</td>\n      <td>Surprisingly delightful</td>\n      <td>This is a fast read filled with unexpected hum...</td>\n    </tr>\n    <tr>\n      <th>2</th>\n      <td>negative</td>\n      <td>Works, but not as advertised</td>\n      <td>I bought one of these chargers..the instructio...</td>\n    </tr>\n    <tr>\n      <th>3</th>\n      <td>negative</td>\n      <td>Oh dear</td>\n      <td>I was excited to find a book ostensibly about ...</td>\n    </tr>\n    <tr>\n      <th>4</th>\n      <td>negative</td>\n      <td>Incorrect disc!</td>\n      <td>I am a big JVC fan, but I do not like this mod...</td>\n    </tr>\n    <tr>\n      <th>5</th>\n      <td>negative</td>\n      <td>Incorrect Disc</td>\n      <td>I love the style of this, but after a couple y...</td>\n    </tr>\n    <tr>\n      <th>6</th>\n      <td>negative</td>\n      <td>DVD menu select problems</td>\n      <td>I cannot scroll through a DVD menu that is set...</td>\n    </tr>\n    <tr>\n      <th>8</th>\n      <td>positive</td>\n      <td>A Cookbook Every Baker Should Own</td>\n      <td>I found a copy of this cookbook at a local use...</td>\n    </tr>\n    <tr>\n      <th>12</th>\n      <td>negative</td>\n      <td>Profound then. Truly horrible now.</td>\n      <td>The narrative style of this work by famous fou...</td>\n    </tr>\n    <tr>\n      <th>13</th>\n      <td>negative</td>\n      <td>A complete Bust</td>\n      <td>This game requires quicktime 5.0 to work...if ...</td>\n    </tr>\n  </tbody>\n</table>\n</div>"
     },
     "execution_count": 29,
     "metadata": {},
     "output_type": "execute_result"
    }
   ],
   "source": [
    "# Remove neutral reviews\n",
    "test_df_no_neutral = test_df[test_df['star_rating'] != \"neutral\"]\n",
    "test_df_no_neutral.head(10)"
   ],
   "metadata": {
    "collapsed": false
   }
  },
  {
   "cell_type": "code",
   "execution_count": 30,
   "outputs": [
    {
     "name": "stdout",
     "output_type": "stream",
     "text": [
      "No-neutrals Dataframe shape\n",
      "Rows:  520000 \n",
      "Columns:  3\n"
     ]
    }
   ],
   "source": [
    "rows, columns = test_df_no_neutral.shape\n",
    "print(\"No-neutrals Dataframe shape\\nRows: \", rows, \"\\nColumns: \", columns)"
   ],
   "metadata": {
    "collapsed": false
   }
  },
  {
   "cell_type": "code",
   "execution_count": 31,
   "outputs": [],
   "source": [
    "# To file\n",
    "# test_df_no_neutral.to_csv(path_or_buf = \"no_neutrals.csv\", index = False)"
   ],
   "metadata": {
    "collapsed": false
   }
  }
 ],
 "metadata": {
  "kernelspec": {
   "display_name": "Python 3",
   "language": "python",
   "name": "python3"
  },
  "language_info": {
   "codemirror_mode": {
    "name": "ipython",
    "version": 2
   },
   "file_extension": ".py",
   "mimetype": "text/x-python",
   "name": "python",
   "nbconvert_exporter": "python",
   "pygments_lexer": "ipython2",
   "version": "2.7.6"
  }
 },
 "nbformat": 4,
 "nbformat_minor": 0
}
