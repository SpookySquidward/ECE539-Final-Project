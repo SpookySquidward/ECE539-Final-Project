{
 "cells": [
  {
   "cell_type": "code",
   "execution_count": 6,
   "metadata": {},
   "outputs": [],
   "source": [
    "#Putting this comment here to change the file to push it.\n",
    "import dataset, os"
   ]
  },
  {
   "cell_type": "code",
   "execution_count": 7,
   "metadata": {},
   "outputs": [
    {
     "ename": "KeyboardInterrupt",
     "evalue": "",
     "output_type": "error",
     "traceback": [
      "\u001b[1;31m---------------------------------------------------------------------------\u001b[0m",
      "\u001b[1;31mKeyboardInterrupt\u001b[0m                         Traceback (most recent call last)",
      "\u001b[1;32mc:\\Users\\lgunn\\OneDrive\\Desktop\\College\\Fall 2023\\ECE 539\\Project\\ECE539-Final-Project\\train_val_split.ipynb Cell 2\u001b[0m line \u001b[0;36m3\n\u001b[0;32m      <a href='vscode-notebook-cell:/c%3A/Users/lgunn/OneDrive/Desktop/College/Fall%202023/ECE%20539/Project/ECE539-Final-Project/train_val_split.ipynb#X14sZmlsZQ%3D%3D?line=0'>1</a>\u001b[0m \u001b[39m# Grab the input data\u001b[39;00m\n\u001b[0;32m      <a href='vscode-notebook-cell:/c%3A/Users/lgunn/OneDrive/Desktop/College/Fall%202023/ECE%20539/Project/ECE539-Final-Project/train_val_split.ipynb#X14sZmlsZQ%3D%3D?line=1'>2</a>\u001b[0m reader \u001b[39m=\u001b[39m dataset\u001b[39m.\u001b[39mcsv_reader()\n\u001b[1;32m----> <a href='vscode-notebook-cell:/c%3A/Users/lgunn/OneDrive/Desktop/College/Fall%202023/ECE%20539/Project/ECE539-Final-Project/train_val_split.ipynb#X14sZmlsZQ%3D%3D?line=2'>3</a>\u001b[0m reader\u001b[39m.\u001b[39;49mopen_csv(os\u001b[39m.\u001b[39;49mpath\u001b[39m.\u001b[39;49mjoin(\u001b[39m\"\u001b[39;49m\u001b[39mdataset\u001b[39;49m\u001b[39m\"\u001b[39;49m, \u001b[39m\"\u001b[39;49m\u001b[39mtrain.csv\u001b[39;49m\u001b[39m\"\u001b[39;49m))\n",
      "File \u001b[1;32mc:\\Users\\lgunn\\OneDrive\\Desktop\\College\\Fall 2023\\ECE 539\\Project\\ECE539-Final-Project\\dataset.py:105\u001b[0m, in \u001b[0;36mcsv_reader.open_csv\u001b[1;34m(self, csv_path)\u001b[0m\n\u001b[0;32m    102\u001b[0m \u001b[39mwith\u001b[39;00m \u001b[39mopen\u001b[39m(csv_path, encoding\u001b[39m=\u001b[39mcsv_encoding) \u001b[39mas\u001b[39;00m csv_file:\n\u001b[0;32m    103\u001b[0m     csv_reader \u001b[39m=\u001b[39m csv\u001b[39m.\u001b[39mreader(csv_file, delimiter\u001b[39m=\u001b[39mcsv_delimiter, quotechar\u001b[39m=\u001b[39mcsv_quotechar, doublequote\u001b[39m=\u001b[39mcsv_doublequote)\n\u001b[1;32m--> 105\u001b[0m     \u001b[39mfor\u001b[39;49;00m line_i, line_items \u001b[39min\u001b[39;49;00m \u001b[39menumerate\u001b[39;49m(csv_reader):\n\u001b[0;32m    106\u001b[0m         \u001b[39m# Ignore blank lines\u001b[39;49;00m\n\u001b[0;32m    107\u001b[0m         \u001b[39mif\u001b[39;49;00m \u001b[39mlen\u001b[39;49m(line_items) \u001b[39m==\u001b[39;49m \u001b[39m0\u001b[39;49m \u001b[39mor\u001b[39;49;00m (\u001b[39mlen\u001b[39;49m(line_items) \u001b[39m==\u001b[39;49m \u001b[39m1\u001b[39;49m \u001b[39mand\u001b[39;49;00m line_items[\u001b[39m0\u001b[39;49m]\u001b[39m.\u001b[39;49misspace()):\n\u001b[0;32m    108\u001b[0m             \u001b[39mcontinue\u001b[39;49;00m\n",
      "File \u001b[1;32m<frozen codecs>:319\u001b[0m, in \u001b[0;36mdecode\u001b[1;34m(self, input, final)\u001b[0m\n",
      "\u001b[1;31mKeyboardInterrupt\u001b[0m: "
     ]
    }
   ],
   "source": [
    "# Grab the input data\n",
    "reader = dataset.csv_reader()\n",
    "reader.open_csv(os.path.join(\"dataset\", \"train.csv\"))"
   ]
  },
  {
   "cell_type": "code",
   "execution_count": null,
   "metadata": {},
   "outputs": [],
   "source": [
    "# Shuffle the input training data; use a set seed for deterministic behavior\n",
    "reader.shuffle(random_state=9817)\n",
    "\n",
    "# Choose 1200000 samples to be used for validation (20%)\n",
    "val_reviews = reader.read(1200000)\n",
    "\n",
    "# Open a new csv to write the validation dataset to\n",
    "writer = dataset.csv_writer()\n",
    "out_path = os.path.join(\"dataset\", \"val-split.csv\")\n",
    "with open(out_path, mode=\"w\", encoding=dataset.csv_encoding) as csv_file:\n",
    "    writer.use_csv(csv_file)\n",
    "\n",
    "    # Write the validation dataset to the output csv\n",
    "    writer.write_reviews(val_reviews)"
   ]
  },
  {
   "cell_type": "code",
   "execution_count": null,
   "metadata": {},
   "outputs": [],
   "source": [
    "# write the remaining samples to a new file, test-split.csv\n",
    "\n",
    "# Choose 1200000 samples to be used for test (20%)\n",
    "test_reviews = reader.read(1200000)\n",
    "\n",
    "# Open a new csv to write the test dataset to\n",
    "writer = dataset.csv_writer()\n",
    "out_path = os.path.join(\"dataset\", \"test-split.csv\")\n",
    "with open(out_path, mode=\"w\", encoding=dataset.csv_encoding) as csv_file:\n",
    "    writer.use_csv(csv_file)\n",
    "\n",
    "    # Write the validation dataset to the output csv\n",
    "    writer.write_reviews(test_reviews)"
   ]
  },
  {
   "cell_type": "code",
   "execution_count": null,
   "metadata": {},
   "outputs": [],
   "source": [
    "# write the remaining samples to a new file, train-split.csv\n",
    "\n",
    "# Choose 1800000 samples to be used for train (60%)\n",
    "train_reviews = reader.read(1800000)\n",
    "\n",
    "# Open a new csv to write the train dataset to\n",
    "writer = dataset.csv_writer()\n",
    "out_path = os.path.join(\"dataset\", \"train-split.csv\")\n",
    "with open(out_path, mode=\"w\", encoding=dataset.csv_encoding) as csv_file:\n",
    "    writer.use_csv(csv_file)\n",
    "\n",
    "    # Write the validation dataset to the output csv\n",
    "    writer.write_reviews(test_reviews)"
   ]
  }
 ],
 "metadata": {
  "kernelspec": {
   "display_name": ".venv",
   "language": "python",
   "name": "python3"
  },
  "language_info": {
   "codemirror_mode": {
    "name": "ipython",
    "version": 3
   },
   "file_extension": ".py",
   "mimetype": "text/x-python",
   "name": "python",
   "nbconvert_exporter": "python",
   "pygments_lexer": "ipython3",
   "version": "3.11.6"
  }
 },
 "nbformat": 4,
 "nbformat_minor": 2
}
