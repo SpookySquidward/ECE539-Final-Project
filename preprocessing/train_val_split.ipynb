{
 "cells": [
  {
   "cell_type": "code",
   "execution_count": 8,
   "metadata": {},
   "outputs": [],
   "source": [
    "import dataset, os"
   ]
  },
  {
   "cell_type": "code",
   "execution_count": 9,
   "metadata": {},
   "outputs": [],
   "source": [
    "# Grab the input data\n",
    "reader = dataset.csv_reader()\n",
    "reader.open_csv(os.path.join(\"dataset\", \"train.csv\"))"
   ]
  },
  {
   "cell_type": "code",
   "execution_count": null,
   "metadata": {},
   "outputs": [],
   "source": [
    "# Shuffle the input training data; use a set seed for deterministic behavior\n",
    "reader.shuffle(random_state=9817)\n",
    "\n",
    "# Choose 1200000 samples to be used for validation (20%)\n",
    "# In the training data there are 3000000 lines, 20% of this = 1200000\n",
    "val_reviews = reader.read(1200000)\n",
    "\n",
    "# Open a new csv to write the validation dataset to\n",
    "writer = dataset.csv_writer()\n",
    "out_path = os.path.join(\"dataset\", \"val-split.csv\")\n",
    "with open(out_path, mode=\"w\", encoding=dataset.csv_encoding) as csv_file:\n",
    "    writer.use_csv(csv_file)\n",
    "\n",
    "    # Write the validation dataset to the output csv\n",
    "    writer.write_reviews(val_reviews)"
   ]
  },
  {
   "cell_type": "code",
   "execution_count": null,
   "metadata": {},
   "outputs": [],
   "source": [
    "# write the remaining samples to a new file, test-split.csv\n",
    "\n",
    "# Choose 1200000 samples to be used for test (20%)\n",
    "# In the training data there are 3000000 lines, 20% of this = 1200000\n",
    "test_reviews = reader.read(1200000)\n",
    "\n",
    "# Open a new csv to write the test dataset to\n",
    "writer = dataset.csv_writer()\n",
    "out_path = os.path.join(\"dataset\", \"test-split.csv\")\n",
    "with open(out_path, mode=\"w\", encoding=dataset.csv_encoding) as csv_file:\n",
    "    writer.use_csv(csv_file)\n",
    "\n",
    "    # Write the validation dataset to the output csv\n",
    "    writer.write_reviews(test_reviews)"
   ]
  },
  {
   "cell_type": "code",
   "execution_count": 10,
   "metadata": {},
   "outputs": [],
   "source": [
    "# write the remaining samples to a new file, train-split.csv\n",
    "\n",
    "# Choose 1800000 samples to be used for train (60%)\n",
    "# In the training data there are 3000000 lines, 60% of this = 1800000\n",
    "train_reviews = reader.read(1800000)\n",
    "\n",
    "# Open a new csv to write the train dataset to\n",
    "writer = dataset.csv_writer()\n",
    "out_path = os.path.join(\"dataset\", \"train-split.csv\")\n",
    "with open(out_path, mode=\"w\", encoding=dataset.csv_encoding) as csv_file:\n",
    "    writer.use_csv(csv_file)\n",
    "\n",
    "    # Write the validation dataset to the output csv\n",
    "    writer.write_reviews(test_reviews)"
   ]
  }
 ],
 "metadata": {
  "kernelspec": {
   "display_name": ".venv",
   "language": "python",
   "name": "python3"
  },
  "language_info": {
   "codemirror_mode": {
    "name": "ipython",
    "version": 3
   },
   "file_extension": ".py",
   "mimetype": "text/x-python",
   "name": "python",
   "nbconvert_exporter": "python",
   "pygments_lexer": "ipython3",
   "version": "3.11.6"
  }
 },
 "nbformat": 4,
 "nbformat_minor": 2
}
