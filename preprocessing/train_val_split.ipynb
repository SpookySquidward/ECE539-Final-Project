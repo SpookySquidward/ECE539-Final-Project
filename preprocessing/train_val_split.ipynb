{
 "cells": [
  {
   "cell_type": "markdown",
   "metadata": {},
   "source": [
    "**Before you begin:** move this file to the top level of your project directory (locally, don't commit this change!)"
   ]
  },
  {
   "cell_type": "code",
   "execution_count": 2,
   "metadata": {},
   "outputs": [],
   "source": [
    "import dataset, os"
   ]
  },
  {
   "cell_type": "code",
   "execution_count": 3,
   "metadata": {},
   "outputs": [],
   "source": [
    "# Grab the input data\n",
    "reader = dataset.csv_reader()\n",
    "reader.open_csv(os.path.join(\"dataset\", \"train.csv\"))"
   ]
  },
  {
   "cell_type": "code",
   "execution_count": 4,
   "metadata": {},
   "outputs": [],
   "source": [
    "# Shuffle the input training data; use a set seed for deterministic behavior\n",
    "reader.shuffle(random_state=9817)\n",
    "\n",
    "# Choose 650000 samples to be used for validation\n",
    "val_reviews = reader.read(650000)\n",
    "\n",
    "# Open a new csv to write the validation dataset to\n",
    "writer = dataset.csv_writer()\n",
    "out_path = os.path.join(\"dataset\", \"val-split.csv\")\n",
    "with open(out_path, mode=\"w\", encoding=dataset.csv_encoding) as csv_file:\n",
    "    writer.use_csv(csv_file)\n",
    "\n",
    "    # Write the validation dataset to the output csv\n",
    "    writer.write_reviews(val_reviews)"
   ]
  },
  {
   "cell_type": "code",
   "execution_count": null,
   "metadata": {},
   "outputs": [],
   "source": [
    "# TODO write the remaining samples to a new file, test-split.csv"
   ]
  }
 ],
 "metadata": {
  "kernelspec": {
   "display_name": ".venv",
   "language": "python",
   "name": "python3"
  },
  "language_info": {
   "codemirror_mode": {
    "name": "ipython",
    "version": 3
   },
   "file_extension": ".py",
   "mimetype": "text/x-python",
   "name": "python",
   "nbconvert_exporter": "python",
   "pygments_lexer": "ipython3",
   "version": "3.11.6"
  }
 },
 "nbformat": 4,
 "nbformat_minor": 2
}
